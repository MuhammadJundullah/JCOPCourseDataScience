{
 "cells": [
  {
   "cell_type": "markdown",
   "id": "f56391f8",
   "metadata": {},
   "source": [
    "# Print"
   ]
  },
  {
   "cell_type": "code",
   "execution_count": 1,
   "id": "7d6ee768",
   "metadata": {},
   "outputs": [
    {
     "name": "stdout",
     "output_type": "stream",
     "text": [
      "Hello, my name is Ahmad\n"
     ]
    }
   ],
   "source": [
    "print(\"Hello, my name is Ahmad\")"
   ]
  },
  {
   "cell_type": "code",
   "execution_count": 2,
   "id": "9f781934",
   "metadata": {},
   "outputs": [
    {
     "name": "stdout",
     "output_type": "stream",
     "text": [
      "I'am 19 years old\n"
     ]
    }
   ],
   "source": [
    "print(\"\"\"I'am 19 years old\"\"\")"
   ]
  },
  {
   "cell_type": "markdown",
   "id": "b9a563ed",
   "metadata": {},
   "source": [
    "# Variable"
   ]
  },
  {
   "cell_type": "code",
   "execution_count": 3,
   "id": "59ad4ea2",
   "metadata": {},
   "outputs": [],
   "source": [
    "a=1"
   ]
  },
  {
   "cell_type": "code",
   "execution_count": 4,
   "id": "f7bfa2e1",
   "metadata": {},
   "outputs": [],
   "source": [
    "a, b=2, 3"
   ]
  },
  {
   "cell_type": "code",
   "execution_count": 5,
   "id": "33dce465",
   "metadata": {},
   "outputs": [
    {
     "data": {
      "text/plain": [
       "2"
      ]
     },
     "execution_count": 5,
     "metadata": {},
     "output_type": "execute_result"
    }
   ],
   "source": [
    "a"
   ]
  },
  {
   "cell_type": "code",
   "execution_count": 6,
   "id": "ef10a14c",
   "metadata": {},
   "outputs": [
    {
     "data": {
      "text/plain": [
       "3"
      ]
     },
     "execution_count": 6,
     "metadata": {},
     "output_type": "execute_result"
    }
   ],
   "source": [
    "b"
   ]
  },
  {
   "cell_type": "code",
   "execution_count": 7,
   "id": "08f26091",
   "metadata": {},
   "outputs": [
    {
     "data": {
      "text/plain": [
       "5"
      ]
     },
     "execution_count": 7,
     "metadata": {},
     "output_type": "execute_result"
    }
   ],
   "source": [
    "a+b"
   ]
  },
  {
   "cell_type": "markdown",
   "id": "b7c86552",
   "metadata": {},
   "source": [
    "# List"
   ]
  },
  {
   "cell_type": "code",
   "execution_count": 29,
   "id": "8eb90c05",
   "metadata": {},
   "outputs": [],
   "source": [
    "a = [1, \"dua\", 3]"
   ]
  },
  {
   "cell_type": "code",
   "execution_count": 30,
   "id": "3d1d84cc",
   "metadata": {},
   "outputs": [
    {
     "data": {
      "text/plain": [
       "[1, 'dua', 3]"
      ]
     },
     "execution_count": 30,
     "metadata": {},
     "output_type": "execute_result"
    }
   ],
   "source": [
    "a"
   ]
  },
  {
   "cell_type": "code",
   "execution_count": 31,
   "id": "8cd51f88",
   "metadata": {},
   "outputs": [
    {
     "data": {
      "text/plain": [
       "3"
      ]
     },
     "execution_count": 31,
     "metadata": {},
     "output_type": "execute_result"
    }
   ],
   "source": [
    "a[-1]"
   ]
  },
  {
   "cell_type": "code",
   "execution_count": 32,
   "id": "e76a5986",
   "metadata": {},
   "outputs": [],
   "source": [
    "a.append(\"empat\")"
   ]
  },
  {
   "cell_type": "code",
   "execution_count": 33,
   "id": "8edb4301",
   "metadata": {},
   "outputs": [
    {
     "data": {
      "text/plain": [
       "[1, 'dua', 3, 'empat']"
      ]
     },
     "execution_count": 33,
     "metadata": {},
     "output_type": "execute_result"
    }
   ],
   "source": [
    "a"
   ]
  },
  {
   "cell_type": "code",
   "execution_count": 34,
   "id": "11367639",
   "metadata": {},
   "outputs": [
    {
     "data": {
      "text/plain": [
       "4"
      ]
     },
     "execution_count": 34,
     "metadata": {},
     "output_type": "execute_result"
    }
   ],
   "source": [
    "len(a)"
   ]
  },
  {
   "cell_type": "code",
   "execution_count": 35,
   "id": "a6f8b98f",
   "metadata": {},
   "outputs": [],
   "source": [
    "b=[]"
   ]
  },
  {
   "cell_type": "code",
   "execution_count": 36,
   "id": "6962f390",
   "metadata": {},
   "outputs": [],
   "source": [
    "b.append(1)"
   ]
  },
  {
   "cell_type": "code",
   "execution_count": 37,
   "id": "134ec2e8",
   "metadata": {},
   "outputs": [
    {
     "data": {
      "text/plain": [
       "[1]"
      ]
     },
     "execution_count": 37,
     "metadata": {},
     "output_type": "execute_result"
    }
   ],
   "source": [
    "b"
   ]
  },
  {
   "cell_type": "code",
   "execution_count": 38,
   "id": "1df74a60",
   "metadata": {},
   "outputs": [
    {
     "data": {
      "text/plain": [
       "1"
      ]
     },
     "execution_count": 38,
     "metadata": {},
     "output_type": "execute_result"
    }
   ],
   "source": [
    "len(b)"
   ]
  },
  {
   "cell_type": "markdown",
   "id": "c9541bb1",
   "metadata": {},
   "source": [
    "# Slicing"
   ]
  },
  {
   "cell_type": "markdown",
   "id": "66661601",
   "metadata": {},
   "source": [
    "#### inclusive : exclusive : step"
   ]
  },
  {
   "cell_type": "code",
   "execution_count": 44,
   "id": "3e22a36d",
   "metadata": {},
   "outputs": [],
   "source": [
    "a = [0, 1, 2, 3, 4, 5, 6]"
   ]
  },
  {
   "cell_type": "code",
   "execution_count": 45,
   "id": "4ee804e1",
   "metadata": {},
   "outputs": [
    {
     "data": {
      "text/plain": [
       "[0, 1]"
      ]
     },
     "execution_count": 45,
     "metadata": {},
     "output_type": "execute_result"
    }
   ],
   "source": [
    "a[0:2]"
   ]
  },
  {
   "cell_type": "code",
   "execution_count": 46,
   "id": "95651fd9",
   "metadata": {},
   "outputs": [
    {
     "data": {
      "text/plain": [
       "[0, 1, 2, 3, 4]"
      ]
     },
     "execution_count": 46,
     "metadata": {},
     "output_type": "execute_result"
    }
   ],
   "source": [
    "a[0:5]"
   ]
  },
  {
   "cell_type": "code",
   "execution_count": 47,
   "id": "0bc0832c",
   "metadata": {},
   "outputs": [
    {
     "data": {
      "text/plain": [
       "[2, 3, 4, 5]"
      ]
     },
     "execution_count": 47,
     "metadata": {},
     "output_type": "execute_result"
    }
   ],
   "source": [
    "a[2:6]"
   ]
  },
  {
   "cell_type": "code",
   "execution_count": 48,
   "id": "b4fa875c",
   "metadata": {},
   "outputs": [
    {
     "data": {
      "text/plain": [
       "[0, 1, 2, 3, 4, 5, 6]"
      ]
     },
     "execution_count": 48,
     "metadata": {},
     "output_type": "execute_result"
    }
   ],
   "source": [
    "a[:]"
   ]
  },
  {
   "cell_type": "code",
   "execution_count": 49,
   "id": "667d3add",
   "metadata": {},
   "outputs": [
    {
     "data": {
      "text/plain": [
       "[0, 1, 2, 3]"
      ]
     },
     "execution_count": 49,
     "metadata": {},
     "output_type": "execute_result"
    }
   ],
   "source": [
    "a[:4]"
   ]
  },
  {
   "cell_type": "code",
   "execution_count": 50,
   "id": "df5004c0",
   "metadata": {},
   "outputs": [
    {
     "data": {
      "text/plain": [
       "[2, 3, 4, 5, 6]"
      ]
     },
     "execution_count": 50,
     "metadata": {},
     "output_type": "execute_result"
    }
   ],
   "source": [
    "a[2:]"
   ]
  },
  {
   "cell_type": "code",
   "execution_count": 51,
   "id": "d0b97895",
   "metadata": {},
   "outputs": [
    {
     "data": {
      "text/plain": [
       "[0, 1, 2, 3, 4]"
      ]
     },
     "execution_count": 51,
     "metadata": {},
     "output_type": "execute_result"
    }
   ],
   "source": [
    "a[:-2]"
   ]
  },
  {
   "cell_type": "code",
   "execution_count": 52,
   "id": "c06053b6",
   "metadata": {},
   "outputs": [
    {
     "data": {
      "text/plain": [
       "[0, 2, 4, 6]"
      ]
     },
     "execution_count": 52,
     "metadata": {},
     "output_type": "execute_result"
    }
   ],
   "source": [
    "a[::2]"
   ]
  },
  {
   "cell_type": "code",
   "execution_count": 53,
   "id": "cb855e3d",
   "metadata": {},
   "outputs": [
    {
     "data": {
      "text/plain": [
       "[2, 4]"
      ]
     },
     "execution_count": 53,
     "metadata": {},
     "output_type": "execute_result"
    }
   ],
   "source": [
    "a[2:6:2]"
   ]
  },
  {
   "cell_type": "markdown",
   "id": "91526c54",
   "metadata": {},
   "source": [
    "# Join & Split"
   ]
  },
  {
   "cell_type": "code",
   "execution_count": 54,
   "id": "f16dc316",
   "metadata": {},
   "outputs": [],
   "source": [
    "a = [\"gajah\", \"beruang\", \"singa\"]"
   ]
  },
  {
   "cell_type": "code",
   "execution_count": 55,
   "id": "0788e561",
   "metadata": {},
   "outputs": [
    {
     "data": {
      "text/plain": [
       "'gajah&beruang&singa'"
      ]
     },
     "execution_count": 55,
     "metadata": {},
     "output_type": "execute_result"
    }
   ],
   "source": [
    "\"&\".join(a)"
   ]
  },
  {
   "cell_type": "code",
   "execution_count": 56,
   "id": "26dc024d",
   "metadata": {},
   "outputs": [
    {
     "data": {
      "text/plain": [
       "'gajah beruang singa'"
      ]
     },
     "execution_count": 56,
     "metadata": {},
     "output_type": "execute_result"
    }
   ],
   "source": [
    "\" \".join(a)"
   ]
  },
  {
   "cell_type": "code",
   "execution_count": 57,
   "id": "50f42c77",
   "metadata": {},
   "outputs": [
    {
     "data": {
      "text/plain": [
       "'gajahberuangsinga'"
      ]
     },
     "execution_count": 57,
     "metadata": {},
     "output_type": "execute_result"
    }
   ],
   "source": [
    "\"\".join(a)"
   ]
  },
  {
   "cell_type": "code",
   "execution_count": 58,
   "id": "8c8f22e7",
   "metadata": {},
   "outputs": [
    {
     "data": {
      "text/plain": [
       "'gajah, beruang, singa'"
      ]
     },
     "execution_count": 58,
     "metadata": {},
     "output_type": "execute_result"
    }
   ],
   "source": [
    "\", \".join(a)"
   ]
  },
  {
   "cell_type": "code",
   "execution_count": 59,
   "id": "e2e7e121",
   "metadata": {},
   "outputs": [],
   "source": [
    "a = \"halo kawan kawan\""
   ]
  },
  {
   "cell_type": "code",
   "execution_count": 60,
   "id": "6e3939af",
   "metadata": {},
   "outputs": [
    {
     "data": {
      "text/plain": [
       "['halo', 'kawan', 'kawan']"
      ]
     },
     "execution_count": 60,
     "metadata": {},
     "output_type": "execute_result"
    }
   ],
   "source": [
    "a.split()"
   ]
  },
  {
   "cell_type": "code",
   "execution_count": 65,
   "id": "8002544a",
   "metadata": {},
   "outputs": [],
   "source": [
    "a = \"hari ini, saya joging\""
   ]
  },
  {
   "cell_type": "code",
   "execution_count": 66,
   "id": "e5d5078f",
   "metadata": {},
   "outputs": [
    {
     "data": {
      "text/plain": [
       "['hari', 'ini,', 'saya', 'joging']"
      ]
     },
     "execution_count": 66,
     "metadata": {},
     "output_type": "execute_result"
    }
   ],
   "source": [
    "a.split()"
   ]
  },
  {
   "cell_type": "code",
   "execution_count": 68,
   "id": "81f1362b",
   "metadata": {},
   "outputs": [
    {
     "data": {
      "text/plain": [
       "['hari ini', 'saya joging']"
      ]
     },
     "execution_count": 68,
     "metadata": {},
     "output_type": "execute_result"
    }
   ],
   "source": [
    "a.split(\", \")"
   ]
  },
  {
   "cell_type": "code",
   "execution_count": 69,
   "id": "3e5ca16e",
   "metadata": {},
   "outputs": [
    {
     "data": {
      "text/plain": [
       "['hari ini', ' saya joging']"
      ]
     },
     "execution_count": 69,
     "metadata": {},
     "output_type": "execute_result"
    }
   ],
   "source": [
    "a.split(\",\")"
   ]
  },
  {
   "cell_type": "markdown",
   "id": "bfd4b98c",
   "metadata": {},
   "source": [
    "# Dictionary"
   ]
  },
  {
   "cell_type": "markdown",
   "id": "22d7e324",
   "metadata": {},
   "source": [
    "#### key : value"
   ]
  },
  {
   "cell_type": "code",
   "execution_count": 72,
   "id": "b17c0e8d",
   "metadata": {},
   "outputs": [],
   "source": [
    "a = {\n",
    "    \"cat\":\"kucing\", \n",
    "    \"dog\":\"anjing\",\n",
    "    \"fish\":\"ikan\"\n",
    "}"
   ]
  },
  {
   "cell_type": "code",
   "execution_count": 76,
   "id": "67e690ff",
   "metadata": {},
   "outputs": [
    {
     "data": {
      "text/plain": [
       "'ikan'"
      ]
     },
     "execution_count": 76,
     "metadata": {},
     "output_type": "execute_result"
    }
   ],
   "source": [
    "a[\"fish\"]"
   ]
  },
  {
   "cell_type": "code",
   "execution_count": 78,
   "id": "f2421f51",
   "metadata": {},
   "outputs": [],
   "source": [
    "a[\"bird\"] = \"burung\""
   ]
  },
  {
   "cell_type": "code",
   "execution_count": 79,
   "id": "c3ef73e6",
   "metadata": {},
   "outputs": [
    {
     "data": {
      "text/plain": [
       "'burung'"
      ]
     },
     "execution_count": 79,
     "metadata": {},
     "output_type": "execute_result"
    }
   ],
   "source": [
    "a[\"bird\"]"
   ]
  },
  {
   "cell_type": "code",
   "execution_count": 80,
   "id": "09a8e0ba",
   "metadata": {},
   "outputs": [
    {
     "data": {
      "text/plain": [
       "{'cat': 'kucing', 'dog': 'anjing', 'fish': 'ikan', 'bird': 'burung'}"
      ]
     },
     "execution_count": 80,
     "metadata": {},
     "output_type": "execute_result"
    }
   ],
   "source": [
    "a"
   ]
  },
  {
   "cell_type": "code",
   "execution_count": 81,
   "id": "fb24ea3b",
   "metadata": {},
   "outputs": [
    {
     "data": {
      "text/plain": [
       "dict_keys(['cat', 'dog', 'fish', 'bird'])"
      ]
     },
     "execution_count": 81,
     "metadata": {},
     "output_type": "execute_result"
    }
   ],
   "source": [
    "a.keys()"
   ]
  },
  {
   "cell_type": "code",
   "execution_count": 82,
   "id": "422512d7",
   "metadata": {},
   "outputs": [
    {
     "data": {
      "text/plain": [
       "dict_values(['kucing', 'anjing', 'ikan', 'burung'])"
      ]
     },
     "execution_count": 82,
     "metadata": {},
     "output_type": "execute_result"
    }
   ],
   "source": [
    "a.values()"
   ]
  },
  {
   "cell_type": "code",
   "execution_count": 83,
   "id": "f8cc4404",
   "metadata": {},
   "outputs": [],
   "source": [
    "nilai = {\"ahmad\": 98, \"dhuha\": 99, \"iqmal\": 89}"
   ]
  },
  {
   "cell_type": "code",
   "execution_count": 85,
   "id": "ee32844f",
   "metadata": {},
   "outputs": [],
   "source": [
    "nilai[\"iqmal\"]=95"
   ]
  },
  {
   "cell_type": "code",
   "execution_count": 86,
   "id": "c302b48c",
   "metadata": {},
   "outputs": [
    {
     "data": {
      "text/plain": [
       "{'ahmad': 98, 'dhuha': 99, 'iqmal': 95}"
      ]
     },
     "execution_count": 86,
     "metadata": {},
     "output_type": "execute_result"
    }
   ],
   "source": [
    "nilai"
   ]
  },
  {
   "cell_type": "code",
   "execution_count": 87,
   "id": "1c8e81da",
   "metadata": {},
   "outputs": [
    {
     "data": {
      "text/plain": [
       "98"
      ]
     },
     "execution_count": 87,
     "metadata": {},
     "output_type": "execute_result"
    }
   ],
   "source": [
    "nilai[\"ahmad\"]"
   ]
  },
  {
   "cell_type": "markdown",
   "id": "46e3f96e",
   "metadata": {},
   "source": [
    "# Function"
   ]
  },
  {
   "cell_type": "code",
   "execution_count": 89,
   "id": "c7bb4fed",
   "metadata": {},
   "outputs": [],
   "source": [
    "def jumlah(a, b):\n",
    "    return a + b"
   ]
  },
  {
   "cell_type": "code",
   "execution_count": 90,
   "id": "c3dd43c4",
   "metadata": {},
   "outputs": [
    {
     "data": {
      "text/plain": [
       "5"
      ]
     },
     "execution_count": 90,
     "metadata": {},
     "output_type": "execute_result"
    }
   ],
   "source": [
    "jumlah(1, 4)"
   ]
  },
  {
   "cell_type": "code",
   "execution_count": 91,
   "id": "5b658f47",
   "metadata": {},
   "outputs": [],
   "source": [
    "def perkalian(a, b):\n",
    "    return a * b"
   ]
  },
  {
   "cell_type": "code",
   "execution_count": 92,
   "id": "47af2fb7",
   "metadata": {},
   "outputs": [
    {
     "data": {
      "text/plain": [
       "5"
      ]
     },
     "execution_count": 92,
     "metadata": {},
     "output_type": "execute_result"
    }
   ],
   "source": [
    "perkalian(1, 5)"
   ]
  },
  {
   "cell_type": "code",
   "execution_count": 93,
   "id": "f204e44f",
   "metadata": {},
   "outputs": [
    {
     "data": {
      "text/plain": [
       "13"
      ]
     },
     "execution_count": 93,
     "metadata": {},
     "output_type": "execute_result"
    }
   ],
   "source": [
    "jumlah(6, 7)"
   ]
  },
  {
   "cell_type": "markdown",
   "id": "df9f05eb",
   "metadata": {},
   "source": [
    "# Conditionals"
   ]
  },
  {
   "cell_type": "code",
   "execution_count": 112,
   "id": "36ff4a5c",
   "metadata": {},
   "outputs": [],
   "source": [
    "nilai = 20"
   ]
  },
  {
   "cell_type": "code",
   "execution_count": 113,
   "id": "e022fa60",
   "metadata": {},
   "outputs": [
    {
     "name": "stdout",
     "output_type": "stream",
     "text": [
      "score anda : C\n"
     ]
    }
   ],
   "source": [
    "if 0 <= nilai < 60:\n",
    "    print(\"score anda : C\")\n",
    "elif 60 <= nilai < 80:\n",
    "    print(\"score anda : B\")\n",
    "elif 80 <= nilai < 100:\n",
    "    print(\"score anda : A\")\n",
    "elif nilai == 100:\n",
    "    print(\"score anda : S\")\n",
    "else:\n",
    "    print(\"nilainya ngaco\")"
   ]
  },
  {
   "cell_type": "code",
   "execution_count": 4,
   "id": "2bc808eb",
   "metadata": {},
   "outputs": [],
   "source": [
    "nilai = 56"
   ]
  },
  {
   "cell_type": "code",
   "execution_count": 5,
   "id": "46cecd5d",
   "metadata": {},
   "outputs": [
    {
     "name": "stdout",
     "output_type": "stream",
     "text": [
      "index : C\n"
     ]
    }
   ],
   "source": [
    "if 0 <= nilai < 60:\n",
    "    print(\"index : C\")\n",
    "elif 60 <= nilai < 80:\n",
    "    print(\"index : B\")\n",
    "elif 80 <= nilai < 100:\n",
    "    print(\"index : A\")\n",
    "elif nilai == 100:\n",
    "    print(\"index : S\")\n",
    "else:\n",
    "    print(\"nilainya ngaco\")"
   ]
  },
  {
   "cell_type": "code",
   "execution_count": 9,
   "id": "fc1dda83",
   "metadata": {},
   "outputs": [],
   "source": [
    "def konversi_ke_index(nilai):\n",
    "    if 0 <= nilai < 60:\n",
    "        return \"indeks : C\"\n",
    "    elif 60 <= nilai < 80:\n",
    "        return \"indeks : B\"\n",
    "    elif 80 <= nilai < 100:\n",
    "        return \"indeks : A\"\n",
    "    elif nilai == 100:\n",
    "        return \"indeks : S\"\n",
    "    else:\n",
    "        return \"nilainya ngaco\""
   ]
  },
  {
   "cell_type": "code",
   "execution_count": 11,
   "id": "d6440897",
   "metadata": {},
   "outputs": [
    {
     "data": {
      "text/plain": [
       "'indeks : A'"
      ]
     },
     "execution_count": 11,
     "metadata": {},
     "output_type": "execute_result"
    }
   ],
   "source": [
    "konversi_ke_index(98)"
   ]
  },
  {
   "cell_type": "markdown",
   "id": "025575f3",
   "metadata": {},
   "source": [
    "# Iterasi (menelusuri)"
   ]
  },
  {
   "cell_type": "code",
   "execution_count": 12,
   "id": "7aa5e464",
   "metadata": {},
   "outputs": [],
   "source": [
    "numbers = [1, 2, 3, 4, 5, 6,]"
   ]
  },
  {
   "cell_type": "code",
   "execution_count": 13,
   "id": "9d14f003",
   "metadata": {},
   "outputs": [
    {
     "name": "stdout",
     "output_type": "stream",
     "text": [
      "1\n",
      "2\n",
      "3\n",
      "4\n",
      "5\n",
      "6\n"
     ]
    }
   ],
   "source": [
    "for n in numbers:\n",
    "    print(n)"
   ]
  },
  {
   "cell_type": "code",
   "execution_count": 15,
   "id": "8afa5e4a",
   "metadata": {},
   "outputs": [
    {
     "name": "stdout",
     "output_type": "stream",
     "text": [
      "indeks : C\n",
      "indeks : C\n",
      "indeks : A\n",
      "indeks : S\n"
     ]
    }
   ],
   "source": [
    "for score in [10, 50, 80, 100]:\n",
    "    print(konversi_ke_index(score))"
   ]
  },
  {
   "cell_type": "code",
   "execution_count": 22,
   "id": "4a8b111d",
   "metadata": {},
   "outputs": [
    {
     "name": "stdout",
     "output_type": "stream",
     "text": [
      "2\n",
      "4\n",
      "6\n",
      "8\n",
      "10\n",
      "12\n"
     ]
    }
   ],
   "source": [
    "for n in numbers:\n",
    "    print(n*2)"
   ]
  },
  {
   "cell_type": "code",
   "execution_count": 23,
   "id": "307eafcd",
   "metadata": {},
   "outputs": [],
   "source": [
    "animals = [\"kucing\", \"Cicak\", \"Kadala\", \"Kecoa\"]"
   ]
  },
  {
   "cell_type": "code",
   "execution_count": 28,
   "id": "2a8ad428",
   "metadata": {},
   "outputs": [
    {
     "name": "stdout",
     "output_type": "stream",
     "text": [
      "KUCING\n",
      "CICAK\n",
      "KADALA\n",
      "KECOA\n"
     ]
    }
   ],
   "source": [
    "for animal in animals:\n",
    "    print(animal.upper())"
   ]
  },
  {
   "cell_type": "code",
   "execution_count": 29,
   "id": "b198b838",
   "metadata": {},
   "outputs": [
    {
     "name": "stdout",
     "output_type": "stream",
     "text": [
      "kucing\n",
      "cicak\n",
      "kadala\n",
      "kecoa\n"
     ]
    }
   ],
   "source": [
    "for animal in animals:\n",
    "    print(animal.lower())"
   ]
  },
  {
   "cell_type": "code",
   "execution_count": 30,
   "id": "0fe97d77",
   "metadata": {},
   "outputs": [
    {
     "name": "stdout",
     "output_type": "stream",
     "text": [
      "0\n",
      "1\n",
      "2\n",
      "3\n",
      "4\n"
     ]
    }
   ],
   "source": [
    "for i in range(0,5):\n",
    "    print(i)"
   ]
  },
  {
   "cell_type": "code",
   "execution_count": 35,
   "id": "541c2cdb",
   "metadata": {},
   "outputs": [],
   "source": [
    "a = {\n",
    "    \"cat\":\"kucing\", \n",
    "    \"dog\":\"anjing\",\n",
    "    \"fish\":\"ikan\"\n",
    "}"
   ]
  },
  {
   "cell_type": "code",
   "execution_count": 36,
   "id": "cab0f22c",
   "metadata": {},
   "outputs": [
    {
     "data": {
      "text/plain": [
       "{'cat': 'kucing', 'dog': 'anjing', 'fish': 'ikan'}"
      ]
     },
     "execution_count": 36,
     "metadata": {},
     "output_type": "execute_result"
    }
   ],
   "source": [
    "a"
   ]
  },
  {
   "cell_type": "code",
   "execution_count": 50,
   "id": "e0526920",
   "metadata": {},
   "outputs": [
    {
     "name": "stdout",
     "output_type": "stream",
     "text": [
      "Bahasa indonesia dari cat adalah kucing\n",
      "Bahasa indonesia dari dog adalah anjing\n",
      "Bahasa indonesia dari fish adalah ikan\n"
     ]
    }
   ],
   "source": [
    "for key in a.keys():\n",
    "    print(f\"Bahasa indonesia dari {key} adalah {a[key]}\")"
   ]
  },
  {
   "cell_type": "code",
   "execution_count": 51,
   "id": "a6e1d4c9",
   "metadata": {},
   "outputs": [],
   "source": [
    "a = []\n",
    "for i in range(5):\n",
    "    a.append(i**2)"
   ]
  },
  {
   "cell_type": "code",
   "execution_count": 52,
   "id": "e846265f",
   "metadata": {},
   "outputs": [
    {
     "data": {
      "text/plain": [
       "[0, 1, 4, 9, 16]"
      ]
     },
     "execution_count": 52,
     "metadata": {},
     "output_type": "execute_result"
    }
   ],
   "source": [
    "a"
   ]
  },
  {
   "cell_type": "markdown",
   "id": "797add27",
   "metadata": {},
   "source": [
    "# Python Comprehension"
   ]
  },
  {
   "cell_type": "code",
   "execution_count": 53,
   "id": "df816736",
   "metadata": {},
   "outputs": [],
   "source": [
    "a = [i**2 for i in range(5)]"
   ]
  },
  {
   "cell_type": "code",
   "execution_count": 54,
   "id": "5439e9d3",
   "metadata": {},
   "outputs": [
    {
     "data": {
      "text/plain": [
       "[0, 1, 4, 9, 16]"
      ]
     },
     "execution_count": 54,
     "metadata": {},
     "output_type": "execute_result"
    }
   ],
   "source": [
    "a"
   ]
  },
  {
   "cell_type": "code",
   "execution_count": 55,
   "id": "2d1618ec",
   "metadata": {},
   "outputs": [],
   "source": [
    "a = {i:i**2 for i in range(5)}"
   ]
  },
  {
   "cell_type": "code",
   "execution_count": 56,
   "id": "dce79e9a",
   "metadata": {},
   "outputs": [
    {
     "data": {
      "text/plain": [
       "{0: 0, 1: 1, 2: 4, 3: 9, 4: 16}"
      ]
     },
     "execution_count": 56,
     "metadata": {},
     "output_type": "execute_result"
    }
   ],
   "source": [
    "a"
   ]
  },
  {
   "cell_type": "code",
   "execution_count": 57,
   "id": "50f813fb",
   "metadata": {},
   "outputs": [],
   "source": [
    "nilai = [konversi_ke_index(score) for score in [10, 20, 30, 40, 50, 60, 70]]"
   ]
  },
  {
   "cell_type": "code",
   "execution_count": 58,
   "id": "3ed560a5",
   "metadata": {},
   "outputs": [
    {
     "data": {
      "text/plain": [
       "['indeks : C',\n",
       " 'indeks : C',\n",
       " 'indeks : C',\n",
       " 'indeks : C',\n",
       " 'indeks : C',\n",
       " 'indeks : B',\n",
       " 'indeks : B']"
      ]
     },
     "execution_count": 58,
     "metadata": {},
     "output_type": "execute_result"
    }
   ],
   "source": [
    "nilai"
   ]
  },
  {
   "cell_type": "code",
   "execution_count": null,
   "id": "47e43e7d",
   "metadata": {},
   "outputs": [],
   "source": []
  }
 ],
 "metadata": {
  "kernelspec": {
   "display_name": "Python 3 (ipykernel)",
   "language": "python",
   "name": "python3"
  },
  "language_info": {
   "codemirror_mode": {
    "name": "ipython",
    "version": 3
   },
   "file_extension": ".py",
   "mimetype": "text/x-python",
   "name": "python",
   "nbconvert_exporter": "python",
   "pygments_lexer": "ipython3",
   "version": "3.10.9"
  }
 },
 "nbformat": 4,
 "nbformat_minor": 5
}
