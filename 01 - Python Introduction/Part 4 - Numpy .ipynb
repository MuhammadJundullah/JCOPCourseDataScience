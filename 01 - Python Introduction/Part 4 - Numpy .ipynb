{
 "cells": [
  {
   "cell_type": "markdown",
   "id": "527bbe42-51b7-4539-94f6-614ad2382002",
   "metadata": {},
   "source": [
    "# Numpy"
   ]
  },
  {
   "cell_type": "code",
   "execution_count": 2,
   "id": "1a74fdd7-0f7f-4e71-9c64-885f06ac4f36",
   "metadata": {},
   "outputs": [],
   "source": [
    "import numpy as np"
   ]
  },
  {
   "cell_type": "code",
   "execution_count": 15,
   "id": "0db7aee4-cdbb-4428-9cb6-c9ed911b4cc8",
   "metadata": {},
   "outputs": [],
   "source": [
    "a = np.array([1, 2, 3]) # array adalah bentuk list yang dapat di operasikan secara matematika"
   ]
  },
  {
   "cell_type": "code",
   "execution_count": 4,
   "id": "658bd02e-fc85-4f4d-8b90-ed345a372fb9",
   "metadata": {},
   "outputs": [
    {
     "data": {
      "text/plain": [
       "array([3, 6, 9])"
      ]
     },
     "execution_count": 4,
     "metadata": {},
     "output_type": "execute_result"
    }
   ],
   "source": [
    "a * 3"
   ]
  },
  {
   "cell_type": "markdown",
   "id": "e5ce629d-0b8f-448f-8663-eabd5625b4fa",
   "metadata": {},
   "source": [
    "# Fungsi Matematika"
   ]
  },
  {
   "cell_type": "code",
   "execution_count": 5,
   "id": "80119888-f9ad-45aa-99b5-08ecf2b5bc9a",
   "metadata": {},
   "outputs": [
    {
     "data": {
      "text/plain": [
       "6"
      ]
     },
     "execution_count": 5,
     "metadata": {},
     "output_type": "execute_result"
    }
   ],
   "source": [
    "np.sum(a)"
   ]
  },
  {
   "cell_type": "code",
   "execution_count": 6,
   "id": "693ae1e6-8028-4ed6-b8d7-730a56b18c5b",
   "metadata": {},
   "outputs": [
    {
     "data": {
      "text/plain": [
       "2.0"
      ]
     },
     "execution_count": 6,
     "metadata": {},
     "output_type": "execute_result"
    }
   ],
   "source": [
    "np.mean(a)"
   ]
  },
  {
   "cell_type": "code",
   "execution_count": 7,
   "id": "215c5ac5-d2fa-4159-9e33-ff9af210b663",
   "metadata": {},
   "outputs": [
    {
     "data": {
      "text/plain": [
       "0.816496580927726"
      ]
     },
     "execution_count": 7,
     "metadata": {},
     "output_type": "execute_result"
    }
   ],
   "source": [
    "np.std(a)"
   ]
  },
  {
   "cell_type": "code",
   "execution_count": 8,
   "id": "598e42c3-50e6-4b1c-9b8f-a3b570f67386",
   "metadata": {},
   "outputs": [
    {
     "data": {
      "text/plain": [
       "array([0.84147098, 0.90929743, 0.14112001])"
      ]
     },
     "execution_count": 8,
     "metadata": {},
     "output_type": "execute_result"
    }
   ],
   "source": [
    "np.sin(a)"
   ]
  },
  {
   "cell_type": "markdown",
   "id": "797f1e64-bce3-4a5e-8dec-d4e343d59f47",
   "metadata": {},
   "source": [
    "# arange, linspace, logspace"
   ]
  },
  {
   "cell_type": "code",
   "execution_count": 9,
   "id": "38b2fd34-88ab-45aa-b776-20f6f0d03899",
   "metadata": {},
   "outputs": [
    {
     "data": {
      "text/plain": [
       "array([0, 1, 2, 3, 4])"
      ]
     },
     "execution_count": 9,
     "metadata": {},
     "output_type": "execute_result"
    }
   ],
   "source": [
    "np.arange(5) # mirip dengan range yang ada di looping list tadi "
   ]
  },
  {
   "cell_type": "code",
   "execution_count": 14,
   "id": "974ef473-bfeb-4965-bc47-81adfcba8b06",
   "metadata": {},
   "outputs": [
    {
     "data": {
      "text/plain": [
       "array([1., 2., 3., 4., 5.])"
      ]
     },
     "execution_count": 14,
     "metadata": {},
     "output_type": "execute_result"
    }
   ],
   "source": [
    "np.linspace(1, 5, 5) # maksudnya dari range 1 - 5 di pecah mejadi 5 bagian sehingga keluarlah output seperti di bawah (inclusive semua)"
   ]
  },
  {
   "cell_type": "code",
   "execution_count": 16,
   "id": "9dffc878-b906-44d1-8d11-4c1a32fb602c",
   "metadata": {},
   "outputs": [
    {
     "data": {
      "text/plain": [
       "array([1.e+01, 1.e+02, 1.e+03, 1.e+04, 1.e+05])"
      ]
     },
     "execution_count": 16,
     "metadata": {},
     "output_type": "execute_result"
    }
   ],
   "source": [
    "np.logspace(1, 5, 5)"
   ]
  },
  {
   "cell_type": "markdown",
   "id": "272cdec0-4c95-4354-902d-a5b9bf023342",
   "metadata": {},
   "source": [
    "# Random"
   ]
  },
  {
   "cell_type": "code",
   "execution_count": 8,
   "id": "a9c04c0f-9d56-4c34-aa23-d10ad23a6904",
   "metadata": {},
   "outputs": [
    {
     "data": {
      "text/plain": [
       "array([[0.19680743, 0.57764759],\n",
       "       [0.13759508, 0.47316963],\n",
       "       [0.811904  , 0.67770232],\n",
       "       [0.55209474, 0.11202276],\n",
       "       [0.53921122, 0.72692216],\n",
       "       [0.41587667, 0.76003268],\n",
       "       [0.06506782, 0.05400244],\n",
       "       [0.25085722, 0.33749287],\n",
       "       [0.59401135, 0.13403832],\n",
       "       [0.38092945, 0.85156469]])"
      ]
     },
     "execution_count": 8,
     "metadata": {},
     "output_type": "execute_result"
    }
   ],
   "source": [
    " np.random.rand(10, 2)"
   ]
  },
  {
   "cell_type": "markdown",
   "id": "1b5fdcd0-057e-4b63-b680-a9bc4772e2cb",
   "metadata": {},
   "source": [
    "# Controlled Randomness"
   ]
  },
  {
   "cell_type": "code",
   "execution_count": 9,
   "id": "86ae3ae0-26eb-4142-acb0-8dfc8e67b90c",
   "metadata": {},
   "outputs": [
    {
     "data": {
      "text/plain": [
       "array([0.37454012, 0.95071431, 0.73199394])"
      ]
     },
     "execution_count": 9,
     "metadata": {},
     "output_type": "execute_result"
    }
   ],
   "source": [
    "state = np.random.RandomState(42)\n",
    "state.rand(3)"
   ]
  },
  {
   "cell_type": "code",
   "execution_count": null,
   "id": "27d9a4fd-bc19-48b5-8ff3-b6835ef127b3",
   "metadata": {},
   "outputs": [],
   "source": [
    " "
   ]
  }
 ],
 "metadata": {
  "kernelspec": {
   "display_name": "Python [conda env:jcopml]",
   "language": "python",
   "name": "conda-env-jcopml-py"
  },
  "language_info": {
   "codemirror_mode": {
    "name": "ipython",
    "version": 3
   },
   "file_extension": ".py",
   "mimetype": "text/x-python",
   "name": "python",
   "nbconvert_exporter": "python",
   "pygments_lexer": "ipython3",
   "version": "3.9.0"
  }
 },
 "nbformat": 4,
 "nbformat_minor": 5
}
