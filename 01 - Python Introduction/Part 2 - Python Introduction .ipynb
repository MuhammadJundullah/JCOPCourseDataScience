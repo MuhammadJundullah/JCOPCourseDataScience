{
 "cells": [
  {
   "cell_type": "markdown",
   "id": "2b02042e-64ac-495c-a8e2-8fab4bea9c48",
   "metadata": {
    "jp-MarkdownHeadingCollapsed": true
   },
   "source": [
    "# Print"
   ]
  },
  {
   "cell_type": "code",
   "execution_count": 1,
   "id": "6c2138f7-cd37-49ab-a792-9a6a3dfb84c8",
   "metadata": {},
   "outputs": [
    {
     "name": "stdout",
     "output_type": "stream",
     "text": [
      "Halo, nama saya ahmad\n"
     ]
    }
   ],
   "source": [
    "print(\"Halo, nama saya ahmad\") # bisa pakai petik dua"
   ]
  },
  {
   "cell_type": "code",
   "execution_count": 2,
   "id": "04fc9f70-1df7-4470-a807-78b0bdc90d84",
   "metadata": {},
   "outputs": [
    {
     "name": "stdout",
     "output_type": "stream",
     "text": [
      "Halo, nama saya ahmad\n"
     ]
    }
   ],
   "source": [
    "print('Halo, nama saya ahmad') # bisa pakai petik satu  "
   ]
  },
  {
   "cell_type": "code",
   "execution_count": 3,
   "id": "d40c432a-0cb5-4845-9f77-83b39c1a9160",
   "metadata": {},
   "outputs": [
    {
     "name": "stdout",
     "output_type": "stream",
     "text": [
      "Halo, nama saya ahmad\n"
     ]
    }
   ],
   "source": [
    "print(\"\"\"Halo, nama saya ahmad\"\"\") # bisa pakai petik tiga saat diperlukan"
   ]
  },
  {
   "cell_type": "markdown",
   "id": "13d2ea7f-f783-4e77-8b14-e7d1248d1ca9",
   "metadata": {
    "jp-MarkdownHeadingCollapsed": true
   },
   "source": [
    "# Variabel"
   ]
  },
  {
   "cell_type": "code",
   "execution_count": 4,
   "id": "15f7abab-0b76-41c0-9831-19ffd20bb304",
   "metadata": {},
   "outputs": [],
   "source": [
    "a = 1 # untuk menyimpan nilai dalam variabel a"
   ]
  },
  {
   "cell_type": "code",
   "execution_count": 6,
   "id": "3cd96c4a-8672-456f-82e2-e0a6cac36585",
   "metadata": {},
   "outputs": [
    {
     "data": {
      "text/plain": [
       "1"
      ]
     },
     "execution_count": 6,
     "metadata": {},
     "output_type": "execute_result"
    }
   ],
   "source": [
    "a # untuk menampilkan nilai dari variabel a"
   ]
  },
  {
   "cell_type": "code",
   "execution_count": 11,
   "id": "c9dc7683-928f-4d70-8ace-9b4e55a388d5",
   "metadata": {},
   "outputs": [],
   "source": [
    "a, b = 3, 4 # bisa memasukkan nilai ke dua variabel sekaligus"
   ]
  },
  {
   "cell_type": "code",
   "execution_count": 12,
   "id": "7c1884da-c24a-4535-a378-c32c8ef05725",
   "metadata": {},
   "outputs": [
    {
     "data": {
      "text/plain": [
       "3"
      ]
     },
     "execution_count": 12,
     "metadata": {},
     "output_type": "execute_result"
    }
   ],
   "source": [
    "a"
   ]
  },
  {
   "cell_type": "code",
   "execution_count": 13,
   "id": "9d68d6b7-4b72-45a7-aa77-532212623fdd",
   "metadata": {},
   "outputs": [
    {
     "data": {
      "text/plain": [
       "4"
      ]
     },
     "execution_count": 13,
     "metadata": {},
     "output_type": "execute_result"
    }
   ],
   "source": [
    "b"
   ]
  },
  {
   "cell_type": "markdown",
   "id": "095b062e-ae5f-470b-a82a-51f80ea64809",
   "metadata": {},
   "source": [
    "#### nilai variabel terakhir yang kita simpan adalah nilai yang akan tampil seperti dalam variabel a di atas"
   ]
  },
  {
   "cell_type": "markdown",
   "id": "95d14dc9-e290-4990-86e3-22842233a4e1",
   "metadata": {
    "jp-MarkdownHeadingCollapsed": true
   },
   "source": [
    "# List"
   ]
  },
  {
   "cell_type": "code",
   "execution_count": 74,
   "id": "79497bf0-500f-4dc5-a2d6-b6bb6f09e305",
   "metadata": {},
   "outputs": [],
   "source": [
    "# untuk list menggunakan kurung siku"
   ]
  },
  {
   "cell_type": "code",
   "execution_count": 20,
   "id": "ee4924c4-8316-4540-a69d-f0d03c92cc7a",
   "metadata": {},
   "outputs": [],
   "source": [
    "a = [1, 2, 3, \"empat\", \"lima\"] # saat memberikan nilai pada list boleh bercampur antara string dan intiger/angka"
   ]
  },
  {
   "cell_type": "code",
   "execution_count": 15,
   "id": "e4d616f5-7c08-4788-9dc1-d13084442083",
   "metadata": {},
   "outputs": [
    {
     "data": {
      "text/plain": [
       "[1, 2, 3, 'empat', 'lima']"
      ]
     },
     "execution_count": 15,
     "metadata": {},
     "output_type": "execute_result"
    }
   ],
   "source": [
    "a"
   ]
  },
  {
   "cell_type": "code",
   "execution_count": 18,
   "id": "fff0c590-b06e-47e3-ab0f-716c01246184",
   "metadata": {},
   "outputs": [
    {
     "data": {
      "text/plain": [
       "1"
      ]
     },
     "execution_count": 18,
     "metadata": {},
     "output_type": "execute_result"
    }
   ],
   "source": [
    " a[0] # ini adalah cara menampilkan satu anggota dalam list, perlu diingat bahwa index di python di mulai dari 0 "
   ]
  },
  {
   "cell_type": "code",
   "execution_count": 19,
   "id": "cd7bae32-129d-49ec-bb88-b121d7e551ae",
   "metadata": {},
   "outputs": [
    {
     "data": {
      "text/plain": [
       "2"
      ]
     },
     "execution_count": 19,
     "metadata": {},
     "output_type": "execute_result"
    }
   ],
   "source": [
    "a[1]"
   ]
  },
  {
   "cell_type": "code",
   "execution_count": 22,
   "id": "ee0c9b87-c53b-4630-9b8e-00a5dfd7473a",
   "metadata": {},
   "outputs": [
    {
     "data": {
      "text/plain": [
       "'empat'"
      ]
     },
     "execution_count": 22,
     "metadata": {},
     "output_type": "execute_result"
    }
   ],
   "source": [
    "a [-2] # bisa juga dengan minus "
   ]
  },
  {
   "cell_type": "code",
   "execution_count": 26,
   "id": "840c5b9d-4d5c-48ee-a7b4-c57f8476e36f",
   "metadata": {},
   "outputs": [],
   "source": [
    "a.append(6) # perintah untuk memasukkan anggota list di belakang"
   ]
  },
  {
   "cell_type": "code",
   "execution_count": 24,
   "id": "53b1d44d-79b1-4bc3-a759-c6b83a802155",
   "metadata": {},
   "outputs": [
    {
     "data": {
      "text/plain": [
       "[1, 2, 3, 'empat', 'lima', 6]"
      ]
     },
     "execution_count": 24,
     "metadata": {},
     "output_type": "execute_result"
    }
   ],
   "source": [
    "a"
   ]
  },
  {
   "cell_type": "code",
   "execution_count": 25,
   "id": "7296dccb-d8f3-4622-ba09-85f4407d5d41",
   "metadata": {},
   "outputs": [
    {
     "data": {
      "text/plain": [
       "6"
      ]
     },
     "execution_count": 25,
     "metadata": {},
     "output_type": "execute_result"
    }
   ],
   "source": [
    "len(a) # perintah untuk menghitung berapa jumlah anggota yang ada di list "
   ]
  },
  {
   "cell_type": "markdown",
   "id": "5c15cabf-16cc-4519-abbd-b61726d4b113",
   "metadata": {
    "jp-MarkdownHeadingCollapsed": true
   },
   "source": [
    "# Slicing  "
   ]
  },
  {
   "cell_type": "code",
   "execution_count": 29,
   "id": "52d283c0-f427-4af8-9a31-ba3a133316b2",
   "metadata": {},
   "outputs": [],
   "source": [
    "# terbagi dua yaitu inclusive dan exclusive\n",
    "# slicing di gunakan untuk mengambil sebagian anggota dalam list secara berurutan "
   ]
  },
  {
   "cell_type": "code",
   "execution_count": 31,
   "id": "31221419-a15b-4d71-89b7-416ea3510890",
   "metadata": {},
   "outputs": [],
   "source": [
    "a = [0, 1, 2, 3, 4, 5, 6]"
   ]
  },
  {
   "cell_type": "code",
   "execution_count": 36,
   "id": "ed3b7275-a3fe-49d5-ba71-a9aabb107c51",
   "metadata": {},
   "outputs": [
    {
     "data": {
      "text/plain": [
       "[0, 1]"
      ]
     },
     "execution_count": 36,
     "metadata": {},
     "output_type": "execute_result"
    }
   ],
   "source": [
    "a[0: 2] # di sini saya mengambil dari angkat 0 sampai 2, dan hanya masuk 0 dan 1 saja, jadi 0 di sebut inclusive dan 2 di sebut exclusive"
   ]
  },
  {
   "cell_type": "code",
   "execution_count": 37,
   "id": "742d4343-2b60-49ec-b437-0ab0b05281b7",
   "metadata": {},
   "outputs": [
    {
     "data": {
      "text/plain": [
       "[0, 1, 2, 3, 4]"
      ]
     },
     "execution_count": 37,
     "metadata": {},
     "output_type": "execute_result"
    }
   ],
   "source": [
    "a[0: 5] # 0 inclusive dan 5 exclusive"
   ]
  },
  {
   "cell_type": "code",
   "execution_count": 38,
   "id": "f2aa52d3-8b58-402c-ae15-df4d92c5efd6",
   "metadata": {},
   "outputs": [
    {
     "data": {
      "text/plain": [
       "[0, 1, 2, 3, 4]"
      ]
     },
     "execution_count": 38,
     "metadata": {},
     "output_type": "execute_result"
    }
   ],
   "source": [
    "a[:5] # kalau kita mau ambil dari index pertama atau 0, angka 0 boleh tidak di tulis "
   ]
  },
  {
   "cell_type": "code",
   "execution_count": 39,
   "id": "7da5b3d8-33b6-43c7-905c-a551211e3301",
   "metadata": {},
   "outputs": [
    {
     "data": {
      "text/plain": [
       "[3, 4, 5, 6]"
      ]
     },
     "execution_count": 39,
     "metadata": {},
     "output_type": "execute_result"
    }
   ],
   "source": [
    "a[3:] # sebaliknya ketika mau ambil sampai akhir boleh tidak di tulis angkanya seperti ini"
   ]
  },
  {
   "cell_type": "code",
   "execution_count": 46,
   "id": "fbe8ab94-2f9c-45e9-8e86-dc80ace00895",
   "metadata": {},
   "outputs": [
    {
     "data": {
      "text/plain": [
       "[0, 2, 4]"
      ]
     },
     "execution_count": 46,
     "metadata": {},
     "output_type": "execute_result"
    }
   ],
   "source": [
    "a[0:6:2] # artinya mengambil dari 0 sampai 6, tapi selang 2 angka dan 6 tetap exclusive"
   ]
  },
  {
   "cell_type": "markdown",
   "id": "e5171626-28f2-48ea-96df-bc9ecd4a98ed",
   "metadata": {
    "jp-MarkdownHeadingCollapsed": true
   },
   "source": [
    "# Join dan Split"
   ]
  },
  {
   "cell_type": "code",
   "execution_count": 47,
   "id": "32adc4b9-950f-47a9-991c-ae3bd5a58e82",
   "metadata": {},
   "outputs": [],
   "source": [
    "a = [\"cat\", \"dog\", \"fish\"]"
   ]
  },
  {
   "cell_type": "code",
   "execution_count": 52,
   "id": "4e59bf49-3b13-4094-a0ed-f531903d5c37",
   "metadata": {},
   "outputs": [
    {
     "data": {
      "text/plain": [
       "'cat, dog, fish'"
      ]
     },
     "execution_count": 52,
     "metadata": {},
     "output_type": "execute_result"
    }
   ],
   "source": [
    "\", \".join(a) # untuk menghubungkan anggota dalam list dengan karakter apa aja seperti koma, spasi, dsb "
   ]
  },
  {
   "cell_type": "code",
   "execution_count": 53,
   "id": "e5cbe97d-6bb9-4a45-870e-5eacace38370",
   "metadata": {},
   "outputs": [],
   "source": [
    "a = \"Sayid Muhammad Jundullah\""
   ]
  },
  {
   "cell_type": "code",
   "execution_count": 56,
   "id": "1c88a5bf-1da5-4bc2-825c-7ac4a6cd5c13",
   "metadata": {},
   "outputs": [
    {
     "data": {
      "text/plain": [
       "['Sayid', 'Muhammad', 'Jundullah']"
      ]
     },
     "execution_count": 56,
     "metadata": {},
     "output_type": "execute_result"
    }
   ],
   "source": [
    "a.split() # untuk memisahkan setiap kata dalam list yang dipisahkan dengan spasi"
   ]
  },
  {
   "cell_type": "code",
   "execution_count": 58,
   "id": "33957bd8-9827-433f-9973-0bc860d596ff",
   "metadata": {},
   "outputs": [],
   "source": [
    "a = \"hari ini, saya pergi ke pasar\""
   ]
  },
  {
   "cell_type": "code",
   "execution_count": 69,
   "id": "1513cc93-817c-45e4-a299-179eef45f77d",
   "metadata": {},
   "outputs": [
    {
     "data": {
      "text/plain": [
       "['hari', 'ini,', 'saya', 'pergi', 'ke', 'pasar']"
      ]
     },
     "execution_count": 69,
     "metadata": {},
     "output_type": "execute_result"
    }
   ],
   "source": [
    "a.split()"
   ]
  },
  {
   "cell_type": "markdown",
   "id": "c14f3e3c-dae5-4666-b483-fff0ae3570f1",
   "metadata": {},
   "source": [
    "# Disctionary"
   ]
  },
  {
   "cell_type": "code",
   "execution_count": 71,
   "id": "7c8c19c7-e073-4818-bf43-1923eaf3497c",
   "metadata": {},
   "outputs": [],
   "source": [
    "# key : value"
   ]
  },
  {
   "cell_type": "code",
   "execution_count": 16,
   "id": "ae2164a6-2986-458c-82a9-814050a7c694",
   "metadata": {},
   "outputs": [],
   "source": [
    "a = {\"cat\" : \"kucing\",\n",
    "     \"dog\" : \"anjing\", \n",
    "     \"gajah\" : \"elephant\"\n",
    "    } \n",
    "# dalam dict menggunakan kurung kurawal"
   ]
  },
  {
   "cell_type": "code",
   "execution_count": 78,
   "id": "e07b9be8-8486-408b-808b-84b6c1bab54f",
   "metadata": {},
   "outputs": [
    {
     "data": {
      "text/plain": [
       "'kucing'"
      ]
     },
     "execution_count": 78,
     "metadata": {},
     "output_type": "execute_result"
    }
   ],
   "source": [
    "a[\"cat\"] # ini adalah cara memanggil key dalam dict, menggunakan kurung siku"
   ]
  },
  {
   "cell_type": "code",
   "execution_count": 79,
   "id": "0c038f72-f350-4e9d-b64a-32afb4ca9c71",
   "metadata": {},
   "outputs": [],
   "source": [
    "a[\"bird\"] = \"burung\" # untuk menambahkan key dan value ke dalam dict a"
   ]
  },
  {
   "cell_type": "code",
   "execution_count": 81,
   "id": "c6325152-4cb1-4a3f-8f11-15c3cfb7522d",
   "metadata": {},
   "outputs": [
    {
     "data": {
      "text/plain": [
       "{'cat': 'kucing', 'dog': 'anjing', 'gajah': 'elephant', 'bird': 'burung'}"
      ]
     },
     "execution_count": 81,
     "metadata": {},
     "output_type": "execute_result"
    }
   ],
   "source": [
    "a # menampilkan seluruh key dan value dalam dict a"
   ]
  },
  {
   "cell_type": "code",
   "execution_count": 82,
   "id": "8f0ed9ac-edb1-4b5b-b9fa-c68db100fa2e",
   "metadata": {},
   "outputs": [
    {
     "data": {
      "text/plain": [
       "dict_keys(['cat', 'dog', 'gajah', 'bird'])"
      ]
     },
     "execution_count": 82,
     "metadata": {},
     "output_type": "execute_result"
    }
   ],
   "source": [
    "a.keys() # untuk menampilkan keys dari dict a"
   ]
  },
  {
   "cell_type": "code",
   "execution_count": 83,
   "id": "6f948366-8292-4ef4-976a-c73169011009",
   "metadata": {},
   "outputs": [
    {
     "data": {
      "text/plain": [
       "dict_values(['kucing', 'anjing', 'elephant', 'burung'])"
      ]
     },
     "execution_count": 83,
     "metadata": {},
     "output_type": "execute_result"
    }
   ],
   "source": [
    "a.values() # untuk menampilkan value dari dict a"
   ]
  },
  {
   "cell_type": "code",
   "execution_count": 86,
   "id": "f0388490-b80b-4046-8880-91a70ddcb88a",
   "metadata": {},
   "outputs": [],
   "source": [
    "nilai = {\"Andi\" : 40, \"Budi\" : 55, \"Asep\" : 88, \"Tasya\" : 96} # program sederhana untuk menyimpan nilai ujian "
   ]
  },
  {
   "cell_type": "code",
   "execution_count": 91,
   "id": "5b8bbbb9-909f-46c9-acab-0d36cb499a47",
   "metadata": {},
   "outputs": [
    {
     "data": {
      "text/plain": [
       "40"
      ]
     },
     "execution_count": 91,
     "metadata": {},
     "output_type": "execute_result"
    }
   ],
   "source": [
    "nilai[\"Andi\"] # untuk melihat nilai andi yang berada dalam dict (menggunakan kurung siku)"
   ]
  },
  {
   "cell_type": "code",
   "execution_count": 92,
   "id": "cf79c0f7-fc7a-4b67-b26f-37dd45e33c15",
   "metadata": {},
   "outputs": [],
   "source": [
    "nilai[\"Budi\"] = 78"
   ]
  },
  {
   "cell_type": "code",
   "execution_count": 93,
   "id": "86e564e8-db5d-4f16-a54b-3e525f75dae3",
   "metadata": {},
   "outputs": [
    {
     "data": {
      "text/plain": [
       "{'Andi': 40, 'Budi': 78, 'Asep': 88, 'Tasya': 96}"
      ]
     },
     "execution_count": 93,
     "metadata": {},
     "output_type": "execute_result"
    }
   ],
   "source": [
    "nilai"
   ]
  },
  {
   "cell_type": "markdown",
   "id": "2ecadc10-826a-431f-bd14-c1367787ce6f",
   "metadata": {},
   "source": [
    "# Fungsi"
   ]
  },
  {
   "cell_type": "code",
   "execution_count": 2,
   "id": "7ea7ddbb-8b03-4093-b206-0a984ae1220b",
   "metadata": {},
   "outputs": [],
   "source": [
    "def jumlah(a, b):\n",
    "    return a + b"
   ]
  },
  {
   "cell_type": "code",
   "execution_count": 4,
   "id": "d35d6ae6-900b-4ed2-aceb-828532a47d4a",
   "metadata": {},
   "outputs": [
    {
     "data": {
      "text/plain": [
       "7"
      ]
     },
     "execution_count": 4,
     "metadata": {},
     "output_type": "execute_result"
    }
   ],
   "source": [
    "jumlah(3, 4)"
   ]
  },
  {
   "cell_type": "code",
   "execution_count": 5,
   "id": "1669e4b5-353b-4a08-a723-7469a26d5ccf",
   "metadata": {},
   "outputs": [],
   "source": [
    "def perkalian(a, b):\n",
    "    return a * b"
   ]
  },
  {
   "cell_type": "code",
   "execution_count": 6,
   "id": "9ae17e32-e9b1-4b32-aa5b-57fe87524871",
   "metadata": {},
   "outputs": [
    {
     "data": {
      "text/plain": [
       "15129"
      ]
     },
     "execution_count": 6,
     "metadata": {},
     "output_type": "execute_result"
    }
   ],
   "source": [
    "perkalian (123, 123)"
   ]
  },
  {
   "cell_type": "markdown",
   "id": "779c4bb2-f564-4a22-967d-fcc80c98c812",
   "metadata": {},
   "source": [
    "# Conditionals"
   ]
  },
  {
   "cell_type": "code",
   "execution_count": 13,
   "id": "1697178a-4c77-45d2-9610-62830bb594fb",
   "metadata": {},
   "outputs": [],
   "source": [
    "score = 60"
   ]
  },
  {
   "cell_type": "code",
   "execution_count": 14,
   "id": "479da9fc-de2c-4cf1-9921-51bb13aecc1e",
   "metadata": {},
   "outputs": [
    {
     "name": "stdout",
     "output_type": "stream",
     "text": [
      "indeks = B\n"
     ]
    }
   ],
   "source": [
    "if 0 <= score < 60 :\n",
    "    print (\"Indeks = C\")\n",
    "elif 60 <= score < 80 :\n",
    "    print (\"indeks = B\")\n",
    "elif 80 <= score < 100 :\n",
    "    print (\"indeks = A\")\n",
    "elif score == 100 :\n",
    "    print (\"indeks = S\")\n",
    "else : \n",
    "    print (\"nilai salah\")"
   ]
  },
  {
   "cell_type": "code",
   "execution_count": 1,
   "id": "72e57840-feb3-40b4-b5e2-43f27f2d4059",
   "metadata": {},
   "outputs": [],
   "source": [
    "def konversi_ke_indeks(score):\n",
    "    if 0 <= score < 60 :\n",
    "        return (\"Indeks = C\")\n",
    "    elif 60 <= score < 80 :\n",
    "        return (\"indeks = B\")\n",
    "    elif 80 <= score < 100 :\n",
    "        return (\"indeks = A\")\n",
    "    elif score == 100 :\n",
    "        return (\"indeks = S\")\n",
    "    else : \n",
    "        return (\"nilai salah\")\n",
    "     "
   ]
  },
  {
   "cell_type": "code",
   "execution_count": 3,
   "id": "15b5e87d-338f-4685-b3f5-9e9ac794c25c",
   "metadata": {},
   "outputs": [
    {
     "data": {
      "text/plain": [
       "'Indeks = C'"
      ]
     },
     "execution_count": 3,
     "metadata": {},
     "output_type": "execute_result"
    }
   ],
   "source": [
    "konversi_ke_indeks(40)"
   ]
  },
  {
   "cell_type": "markdown",
   "id": "44ee721a-1c74-4975-81fa-79195e097caf",
   "metadata": {},
   "source": [
    "# Iterasi (Menelusuri )"
   ]
  },
  {
   "cell_type": "code",
   "execution_count": 6,
   "id": "f890b1b0-8767-4ba0-bf7d-3e7f6e7aab91",
   "metadata": {},
   "outputs": [],
   "source": [
    "numbers = [1, 2, 3, 4 ,5 ,6 ,7]"
   ]
  },
  {
   "cell_type": "code",
   "execution_count": 8,
   "id": "dabbb272-37ad-4ae6-bc1b-267ed04ca8d1",
   "metadata": {},
   "outputs": [
    {
     "name": "stdout",
     "output_type": "stream",
     "text": [
      "1\n",
      "2\n",
      "3\n",
      "4\n",
      "5\n",
      "6\n",
      "7\n"
     ]
    }
   ],
   "source": [
    "for n in numbers:\n",
    "    print(n)"
   ]
  },
  {
   "cell_type": "code",
   "execution_count": 9,
   "id": "6a921e4f-16a3-4e4a-a54f-1458062c9599",
   "metadata": {},
   "outputs": [
    {
     "name": "stdout",
     "output_type": "stream",
     "text": [
      "Indeks = C\n",
      "Indeks = C\n",
      "Indeks = C\n",
      "Indeks = C\n",
      "indeks = B\n"
     ]
    }
   ],
   "source": [
    "for score in [10, 20, 40, 50, 60]:  \n",
    "    print(konversi_ke_indeks(score))"
   ]
  },
  {
   "cell_type": "code",
   "execution_count": 10,
   "id": "5d193c7d-09ad-4a43-b7ce-7d3ad09a547f",
   "metadata": {},
   "outputs": [],
   "source": [
    "animals = ['cat', 'dog', 'fish']"
   ]
  },
  {
   "cell_type": "code",
   "execution_count": 14,
   "id": "b902e629-73d4-4e5b-bf66-0fc8c661fddd",
   "metadata": {},
   "outputs": [
    {
     "name": "stdout",
     "output_type": "stream",
     "text": [
      "cat\n",
      "dog\n",
      "fish\n"
     ]
    }
   ],
   "source": [
    "for animal in animals:\n",
    "    print(animal.lower () )"
   ]
  },
  {
   "cell_type": "code",
   "execution_count": 15,
   "id": "526b3221-dc8e-450e-aaae-080bb9afb428",
   "metadata": {},
   "outputs": [
    {
     "name": "stdout",
     "output_type": "stream",
     "text": [
      "0\n",
      "1\n",
      "2\n",
      "3\n",
      "4\n",
      "5\n",
      "6\n",
      "7\n",
      "8\n",
      "9\n"
     ]
    }
   ],
   "source": [
    "for i in range(10):\n",
    "    print(i)"
   ]
  },
  {
   "cell_type": "code",
   "execution_count": 17,
   "id": "556e2274-24b7-4810-8309-ed30c116dd50",
   "metadata": {},
   "outputs": [
    {
     "data": {
      "text/plain": [
       "{'cat': 'kucing', 'dog': 'anjing', 'gajah': 'elephant'}"
      ]
     },
     "execution_count": 17,
     "metadata": {},
     "output_type": "execute_result"
    }
   ],
   "source": [
    "a"
   ]
  },
  {
   "cell_type": "code",
   "execution_count": 18,
   "id": "301c37be-8c07-4fa5-b144-49d0bba143fc",
   "metadata": {},
   "outputs": [
    {
     "data": {
      "text/plain": [
       "dict_keys(['cat', 'dog', 'gajah'])"
      ]
     },
     "execution_count": 18,
     "metadata": {},
     "output_type": "execute_result"
    }
   ],
   "source": [
    "a.keys()"
   ]
  },
  {
   "cell_type": "code",
   "execution_count": 20,
   "id": "a8a7312f-9bd9-4a51-a2e9-856a8d77fd97",
   "metadata": {},
   "outputs": [
    {
     "name": "stdout",
     "output_type": "stream",
     "text": [
      "CAT\n",
      "DOG\n",
      "GAJAH\n"
     ]
    }
   ],
   "source": [
    "for i in a.keys():\n",
    "    print(i.upper())"
   ]
  },
  {
   "cell_type": "code",
   "execution_count": 33,
   "id": "858e2d11-2d0e-459c-b033-2c860b3fc3ad",
   "metadata": {},
   "outputs": [
    {
     "name": "stdout",
     "output_type": "stream",
     "text": [
      "Bahasa indonesianya cat adalah kucing\n",
      "Bahasa indonesianya dog adalah anjing\n",
      "Bahasa indonesianya gajah adalah elephant\n"
     ]
    }
   ],
   "source": [
    "for key in a.keys():\n",
    "    print(\"Bahasa indonesianya\", key, \"adalah\", a[key])"
   ]
  },
  {
   "cell_type": "code",
   "execution_count": 42,
   "id": "5370466d-c2f0-4b00-87e9-2d65ac38640f",
   "metadata": {},
   "outputs": [],
   "source": [
    "a = []\n",
    "for i in range(5):\n",
    "    a.append(i**2)"
   ]
  },
  {
   "cell_type": "code",
   "execution_count": 43,
   "id": "825a7f48-1db2-4844-9773-41452e5566f4",
   "metadata": {},
   "outputs": [
    {
     "data": {
      "text/plain": [
       "[0, 1, 4, 9, 16]"
      ]
     },
     "execution_count": 43,
     "metadata": {},
     "output_type": "execute_result"
    }
   ],
   "source": [
    "a "
   ]
  },
  {
   "cell_type": "markdown",
   "id": "392f1efb-7150-483f-8a7b-0d161e2026d2",
   "metadata": {},
   "source": [
    "# Python Comprehension "
   ]
  },
  {
   "cell_type": "code",
   "execution_count": 45,
   "id": "f7d1937d-5495-4bd2-b46c-73931efaa796",
   "metadata": {},
   "outputs": [
    {
     "data": {
      "text/plain": [
       "[0, 1, 4, 9, 16]"
      ]
     },
     "execution_count": 45,
     "metadata": {},
     "output_type": "execute_result"
    }
   ],
   "source": [
    "a = [i**2 for i in range(5)]\n",
    "a"
   ]
  },
  {
   "cell_type": "code",
   "execution_count": 46,
   "id": "1a176f06-4154-4ab5-8842-0c43a1487393",
   "metadata": {},
   "outputs": [
    {
     "data": {
      "text/plain": [
       "{0: 0, 1: 1, 2: 4, 3: 9, 4: 16}"
      ]
     },
     "execution_count": 46,
     "metadata": {},
     "output_type": "execute_result"
    }
   ],
   "source": [
    "a = {i: i**2 for i in range(5)}\n",
    "a"
   ]
  },
  {
   "cell_type": "code",
   "execution_count": 47,
   "id": "4249fcde-b223-4614-84b7-0369d4dcf701",
   "metadata": {},
   "outputs": [
    {
     "data": {
      "text/plain": [
       "['Indeks = C',\n",
       " 'Indeks = C',\n",
       " 'Indeks = C',\n",
       " 'Indeks = C',\n",
       " 'Indeks = C',\n",
       " 'indeks = B',\n",
       " 'indeks = B',\n",
       " 'indeks = A',\n",
       " 'indeks = A']"
      ]
     },
     "execution_count": 47,
     "metadata": {},
     "output_type": "execute_result"
    }
   ],
   "source": [
    "nilai = [konversi_ke_indeks(score) for score in [10, 20, 30, 40, 50, 60, 70, 80, 90]]\n",
    "nilai"
   ]
  },
  {
   "cell_type": "code",
   "execution_count": null,
   "id": "4ceef65a-9467-48b8-a03c-2b9db7ccfd20",
   "metadata": {},
   "outputs": [],
   "source": []
  }
 ],
 "metadata": {
  "kernelspec": {
   "display_name": "Python 3 (ipykernel)",
   "language": "python",
   "name": "python3"
  },
  "language_info": {
   "codemirror_mode": {
    "name": "ipython",
    "version": 3
   },
   "file_extension": ".py",
   "mimetype": "text/x-python",
   "name": "python",
   "nbconvert_exporter": "python",
   "pygments_lexer": "ipython3",
   "version": "3.11.5"
  }
 },
 "nbformat": 4,
 "nbformat_minor": 5
}
